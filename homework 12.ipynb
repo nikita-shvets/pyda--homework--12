{
 "cells": [
  {
   "cell_type": "code",
   "execution_count": 56,
   "metadata": {},
   "outputs": [
    {
     "name": "stdout",
     "output_type": "stream",
     "text": [
      "Номер ['АВ222С'] валиден. Регион: ['96']\n"
     ]
    }
   ],
   "source": [
    "#знаю что лучше по-другому функции называть, но просто лень\n",
    "import re\n",
    "car_id = 'car_id = АВ222С96'\n",
    "#car_id = 'АБ22ВВ193'\n",
    "def func(car_id):\n",
    "    if re.findall(r'[А,В,Е,К,М-О,Р-У,Ч]{2}\\d{3}[А,В,Е,К,М-О,Р-У,Ч]\\d{2,3}', car_id) !=[]:\n",
    "        number = re.findall(r'[А,В,Е,К,М-О,Р-У,Ч]{2}\\d{3}[А,В,Е,К,М-О,Р-У,Ч]',car_id)\n",
    "        region = re.findall(r'\\d{2,3}$',car_id )\n",
    "        print ('Номер', number, 'валиден. Регион:', region)\n",
    "    else:\n",
    "        print('Номер не валиден')\n",
    "func(car_id)"
   ]
  },
  {
   "cell_type": "code",
   "execution_count": 226,
   "metadata": {},
   "outputs": [
    {
     "name": "stdout",
     "output_type": "stream",
     "text": [
      "Напишите функцию, которая будет удалять все последовательные повторы слов из заданной строки при помощи регулярных выражений\n",
      "Напишите функцию функцию, которая будет будет будет будет удалять все все все все последовательные повторы слов из из из из заданной строки строки при помощи регулярных выражений\n"
     ]
    }
   ],
   "source": [
    "some_string = 'Напишите функцию функцию, которая будет будет будет будет удалять все все все все последовательные повторы слов из из из из заданной строки строки при помощи регулярных выражений'\n",
    "def func(some_string):\n",
    "    print( re.sub(r'\\b([^\\W\\d]+)(\\s+\\1)+\\b', r'\\1', some_string ))\n",
    "func(some_string)"
   ]
  },
  {
   "cell_type": "code",
   "execution_count": 248,
   "metadata": {},
   "outputs": [
    {
     "name": "stdout",
     "output_type": "stream",
     "text": [
      "ИТ\n"
     ]
    }
   ],
   "source": [
    "some_words = 'Информационные технологии '\n",
    "def func(some_words):\n",
    "    print(''.join(re.findall(r'\\b[^\\s]', some_words)).upper())\n",
    "func(some_words)"
   ]
  },
  {
   "cell_type": "code",
   "execution_count": 292,
   "metadata": {},
   "outputs": [
    {
     "name": "stdout",
     "output_type": "stream",
     "text": [
      "gmail.com : 2\n",
      "test.in : 1\n",
      "ya.ru : 2\n",
      "mail.ru : 1\n"
     ]
    }
   ],
   "source": [
    "from collections import Counter\n",
    "emails = ['test@gmail.com, xyz@test.in, test@ya.ru, xyz@mail.ru, xyz@ya.ru', 'xyz@gmail.com']\n",
    "def func(emails):\n",
    "    mails = (re.findall(r'\\w+[.]\\w+', str(emails)))\n",
    "    c = Counter(mails)\n",
    "    for el in c.keys():\n",
    "        print (el, ':', c[el])\n",
    "func(emails)"
   ]
  },
  {
   "cell_type": "code",
   "execution_count": 303,
   "metadata": {
    "scrolled": true
   },
   "outputs": [
    {
     "name": "stdout",
     "output_type": "stream",
     "text": [
      "Слов на гласные буквы: 9\n",
      "Слов на согласные буквы: 21\n"
     ]
    }
   ],
   "source": [
    "some_text = 'Эталонной реализацией Python является интерпретатор CPython, поддерживающий большинство активно используемых платформ. Он распространяется под свободной лицензией Python Software Foundation License, позволяющей использовать его без ограничений в любых приложениях, включая проприетарные.'\n",
    "def func(some_text):\n",
    "    list = re.findall(r'\\b[^\\s\\W]', some_text)\n",
    "    counter = 0\n",
    "    for el in list:\n",
    "        if el in ['а','А', 'о', 'О', 'е', 'Е', 'у', 'У', 'и', 'И', 'ы', 'Ы', 'Э', 'э', 'я', 'Я']:\n",
    "            counter += 1\n",
    "    print ('Слов на гласные буквы:', counter)\n",
    "    print('Слов на согласные буквы:', len(list) - counter )\n",
    "func(some_text)"
   ]
  },
  {
   "cell_type": "code",
   "execution_count": 456,
   "metadata": {},
   "outputs": [
    {
     "name": "stdout",
     "output_type": "stream",
     "text": [
      "Номер не валиден\n"
     ]
    }
   ],
   "source": [
    "phone =    '423-555-55-5555'\n",
    "def func(phone):\n",
    "    if re.findall(r'\\W?[7|8]\\s?\\W?\\d{3}\\W?\\s?\\d{3}\\s?\\W?\\d{2}\\s?\\W?\\d{2}', phone) != []:\n",
    "        print (re.sub(r'\\W?[7|8]\\s?\\W?(\\d{3})\\W?\\s?(\\d{3})\\s?\\W?(\\d{2})\\s?\\W?(\\d{2})',r'+7-\\1-\\2-\\3-\\4', phone))\n",
    "    else:\n",
    "        print('Номер не валиден')\n",
    "func(phone)"
   ]
  }
 ],
 "metadata": {
  "kernelspec": {
   "display_name": "Python 3",
   "language": "python",
   "name": "python3"
  },
  "language_info": {
   "codemirror_mode": {
    "name": "ipython",
    "version": 3
   },
   "file_extension": ".py",
   "mimetype": "text/x-python",
   "name": "python",
   "nbconvert_exporter": "python",
   "pygments_lexer": "ipython3",
   "version": "3.8.5"
  }
 },
 "nbformat": 4,
 "nbformat_minor": 4
}
